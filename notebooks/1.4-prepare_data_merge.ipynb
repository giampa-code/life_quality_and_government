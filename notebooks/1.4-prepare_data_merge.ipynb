{
 "cells": [
  {
   "cell_type": "markdown",
   "metadata": {},
   "source": [
    "## Imports"
   ]
  },
  {
   "cell_type": "code",
   "execution_count": 23,
   "metadata": {},
   "outputs": [],
   "source": [
    "import numpy as np\n",
    "import pandas as pd\n",
    "import life_quality_and_government.utils.paths as path\n",
    "import glob"
   ]
  },
  {
   "cell_type": "markdown",
   "metadata": {},
   "source": []
  },
  {
   "cell_type": "code",
   "execution_count": 29,
   "metadata": {},
   "outputs": [
    {
     "name": "stdout",
     "output_type": "stream",
     "text": [
      "<class 'pandas.core.frame.DataFrame'>\n",
      "Int64Index: 310 entries, 0 to 309\n",
      "Data columns (total 28 columns):\n",
      " #   Column                                                                  Non-Null Count  Dtype  \n",
      "---  ------                                                                  --------------  -----  \n",
      " 0   Country Name                                                            310 non-null    object \n",
      " 1   Region                                                                  206 non-null    object \n",
      " 2   GDP_pc                                                                  253 non-null    float64\n",
      " 3   GDP_pc_PPP                                                              240 non-null    float64\n",
      " 4   GDP_growth                                                              251 non-null    float64\n",
      " 5   LQI                                                                     89 non-null     float64\n",
      " 6   Purchasing Power Index                                                  89 non-null     float64\n",
      " 7   Safety Index                                                            89 non-null     float64\n",
      " 8   Health Care Index                                                       89 non-null     float64\n",
      " 9   Cost of Living Index                                                    89 non-null     float64\n",
      " 10  Property Price to Income Ratio                                          89 non-null     float64\n",
      " 11  Traffic Commute Time Index                                              89 non-null     float64\n",
      " 12  Pollution Index                                                         89 non-null     float64\n",
      " 13  Climate Index                                                           89 non-null     float64\n",
      " 14  HDI                                                                     189 non-null    float64\n",
      " 15  Control of Corruption: Estimate                                         212 non-null    float64\n",
      " 16  Control of Corruption: Percentile Rank                                  212 non-null    float64\n",
      " 17  Government Effectiveness: Estimate                                      212 non-null    float64\n",
      " 18  Government Effectiveness: Percentile Rank                               212 non-null    float64\n",
      " 19  Political Stability and Absence of Violence/Terrorism: Estimate         214 non-null    float64\n",
      " 20  Political Stability and Absence of Violence/Terrorism: Percentile Rank  214 non-null    float64\n",
      " 21  Regulatory Quality: Estimate                                            212 non-null    float64\n",
      " 22  Regulatory Quality: Percentile Rank                                     212 non-null    float64\n",
      " 23  Rule of Law: Estimate                                                   214 non-null    float64\n",
      " 24  Rule of Law: Percentile Rank                                            214 non-null    float64\n",
      " 25  Voice and Accountability: Estimate                                      214 non-null    float64\n",
      " 26  Voice and Accountability: Percentile Rank                               214 non-null    float64\n",
      " 27  Government Quality                                                      214 non-null    float64\n",
      "dtypes: float64(26), object(2)\n",
      "memory usage: 70.2+ KB\n"
     ]
    }
   ],
   "source": [
    "filenames = glob.glob(str(path.data_interim_dir()) + '/*.csv')\n",
    "\n",
    "for i,file in enumerate(filenames):\n",
    "    if i == 0:\n",
    "        df = pd.read_csv(file)\n",
    "        wi = df\n",
    "    else:\n",
    "        df = pd.read_csv(file)\n",
    "        wi = pd.merge(wi,df, on='Country Name', how='outer')\n",
    "\n",
    "wi.to_csv(path.data_processed_dir('wi_v0.csv'), index=False)\n",
    "wi.info()"
   ]
  },
  {
   "cell_type": "code",
   "execution_count": null,
   "metadata": {},
   "outputs": [],
   "source": []
  },
  {
   "cell_type": "code",
   "execution_count": null,
   "metadata": {},
   "outputs": [],
   "source": []
  }
 ],
 "metadata": {
  "interpreter": {
   "hash": "917d49a6f2f7d915df565dcc2b65134aa5b3e450bdf94b884f2af2fc61b0047e"
  },
  "kernelspec": {
   "display_name": "Python 3.9.12 ('ds')",
   "language": "python",
   "name": "python3"
  },
  "language_info": {
   "codemirror_mode": {
    "name": "ipython",
    "version": 3
   },
   "file_extension": ".py",
   "mimetype": "text/x-python",
   "name": "python",
   "nbconvert_exporter": "python",
   "pygments_lexer": "ipython3",
   "version": "3.9.12"
  },
  "orig_nbformat": 4
 },
 "nbformat": 4,
 "nbformat_minor": 2
}
